{
 "cells": [
  {
   "cell_type": "code",
   "execution_count": 1,
   "metadata": {},
   "outputs": [],
   "source": [
    "import numpy as np\n",
    "np.random.seed(1)"
   ]
  },
  {
   "cell_type": "markdown",
   "metadata": {},
   "source": [
    "# 2 im2col関数とcol2im関数"
   ]
  },
  {
   "cell_type": "code",
   "execution_count": 2,
   "metadata": {},
   "outputs": [],
   "source": [
    "def im2col(x, fil_size, y_size, stride, pad):\n",
    "    x_b, x_c, x_h, x_w = x.shape\n",
    "    fil_h, fil_w = fil_size, fil_size\n",
    "    y_h, y_w = y_size, y_size\n",
    "    index = -1\n",
    "    \n",
    "    x_pad = np.pad(x, [(0, 0), (0, 0), (pad, pad), (pad, pad)], \"constant\")\n",
    "    x_col = np.zeros((fil_h*fil_w, x_b, x_c, y_h, y_w))\n",
    "    \n",
    "    for h in range(fil_h):\n",
    "        h2 = h + y_h*stride\n",
    "        for w in range(fil_w):\n",
    "            index += 1\n",
    "            w2 = w + y_w*stride\n",
    "            x_col[index,:,:,:,:] = x_pad[:,:,h:h2:stride,w:w2:stride]\n",
    "    x_col = x_col.transpose(2,0,1,3,4).reshape(x_c*fil_h*fil_w, x_b*y_h*y_w)\n",
    "    \n",
    "    return x_col"
   ]
  },
  {
   "cell_type": "code",
   "execution_count": 3,
   "metadata": {},
   "outputs": [],
   "source": [
    "def col2im(dx_col, x_shape, fil_size, y_size, stride, pad):\n",
    "    x_b, x_c, x_h, x_w = x_shape\n",
    "    fil_h, fil_w = fil_size, fil_size\n",
    "    y_h, y_w = y_size, y_size\n",
    "    index = -1\n",
    "    \n",
    "    dx_col = dx_col.reshape(x_c, fil_h*fil_w, x_b, y_h, y_w).transpose(1,2,0,3,4)\n",
    "    dx = np.zeros((x_b, x_c, x_h+2*pad+stride-1, x_w+2*pad+stride-1))\n",
    "    \n",
    "    for h in range(fil_h):\n",
    "        h2 = h + y_h*stride\n",
    "        for w in range(fil_w):\n",
    "            index += 1\n",
    "            w2 = w + y_w*stride\n",
    "            dx[:,:,h:h2:stride,w:w2:stride] += dx_col[index,:,:,:,:]\n",
    "    \n",
    "    return dx[:,:,pad:x_h+pad, pad:x_w+pad]"
   ]
  },
  {
   "cell_type": "markdown",
   "metadata": {},
   "source": [
    "# 3 convolutional層"
   ]
  },
  {
   "cell_type": "code",
   "execution_count": 4,
   "metadata": {},
   "outputs": [],
   "source": [
    "class Conv:\n",
    "    \n",
    "    def __init__(self, x_c, y_c, fil_size, stride, pad):\n",
    "        self.x_c, self.y_c = x_c, y_c\n",
    "        self.fil_h, self.fil_w = fil_size, fil_size\n",
    "        self.stride, self.pad = stride, pad\n",
    "        \n",
    "        self.w = np.arange(54).reshape(2,3,3,3)\n",
    "        self.b = np.zeros((1,self.y_c))\n",
    "        #self.w = np.random.randn(self.y_c, self.x_c, self.fil_h, self.fil_w)\n",
    "        #self.b = np.random.randn(1, self.y_c)\n",
    "        \n",
    "    def forward(self, x):\n",
    "        \n",
    "        self.xshape = x.shape\n",
    "        self.x_b, self.x_c, self.x_h, self.x_w = x.shape\n",
    "        self.y_h = (self.x_h - self.fil_h + 2*self.pad) // self.stride + 1\n",
    "        self.y_w = (self.x_w - self.fil_w + 2*self.pad) // self.stride + 1\n",
    "        \n",
    "        self.x_col = im2col(x, self.fil_h, self.y_h, self.stride, self.pad)\n",
    "        self.w_col = self.w.reshape(self.y_c, self.x_c*self.fil_h*self.fil_w)\n",
    "        \n",
    "        y = np.dot(self.w_col, self.x_col).T + self.b\n",
    "        self.y = y.reshape(self.x_b, self.y_h, self.y_w, self.y_c).transpose(0,3,1,2)\n",
    "        \n",
    "        return self.y\n",
    "    \n",
    "    def backward(self, dy):\n",
    "        \n",
    "        dy = dy.transpose(0,2,3,1).reshape(self.x_b*self.y_h*self.y_w, self.y_c)\n",
    "        dw = np.dot(self.x_col, dy)\n",
    "        \n",
    "        self.dw = dw.T.reshape(self.y_c, self.x_c, self.fil_h, self.fil_w)\n",
    "        self.db = np.sum(dy, axis=0)\n",
    "        \n",
    "        dx_col = np.dot(dy, self.w_col)\n",
    "        self.dx = col2im(dx_col.T, (self.xshape), self.fil_h, self.y_h, self.stride, self.pad)\n",
    "        \n",
    "        return self.dx"
   ]
  },
  {
   "cell_type": "code",
   "execution_count": 5,
   "metadata": {},
   "outputs": [
    {
     "data": {
      "text/plain": [
       "((2, 3, 4, 4),\n",
       " array([[[[ 0,  1,  2,  3],\n",
       "          [ 4,  5,  6,  7],\n",
       "          [ 8,  9, 10, 11],\n",
       "          [12, 13, 14, 15]],\n",
       " \n",
       "         [[16, 17, 18, 19],\n",
       "          [20, 21, 22, 23],\n",
       "          [24, 25, 26, 27],\n",
       "          [28, 29, 30, 31]],\n",
       " \n",
       "         [[32, 33, 34, 35],\n",
       "          [36, 37, 38, 39],\n",
       "          [40, 41, 42, 43],\n",
       "          [44, 45, 46, 47]]],\n",
       " \n",
       " \n",
       "        [[[48, 49, 50, 51],\n",
       "          [52, 53, 54, 55],\n",
       "          [56, 57, 58, 59],\n",
       "          [60, 61, 62, 63]],\n",
       " \n",
       "         [[64, 65, 66, 67],\n",
       "          [68, 69, 70, 71],\n",
       "          [72, 73, 74, 75],\n",
       "          [76, 77, 78, 79]],\n",
       " \n",
       "         [[80, 81, 82, 83],\n",
       "          [84, 85, 86, 87],\n",
       "          [88, 89, 90, 91],\n",
       "          [92, 93, 94, 95]]]]))"
      ]
     },
     "execution_count": 5,
     "metadata": {},
     "output_type": "execute_result"
    }
   ],
   "source": [
    "x = np.arange(96).reshape(2,3,4,4)\n",
    "x.shape, x"
   ]
  },
  {
   "cell_type": "code",
   "execution_count": 6,
   "metadata": {},
   "outputs": [],
   "source": [
    "conv = Conv(3, 2, 3, 1, 0)"
   ]
  },
  {
   "cell_type": "code",
   "execution_count": 7,
   "metadata": {},
   "outputs": [
    {
     "data": {
      "text/plain": [
       "((2, 2, 2, 2),\n",
       " array([[[[10197., 10548.],\n",
       "          [11601., 11952.]],\n",
       " \n",
       "         [[25506., 26586.],\n",
       "          [29826., 30906.]]],\n",
       " \n",
       " \n",
       "        [[[27045., 27396.],\n",
       "          [28449., 28800.]],\n",
       " \n",
       "         [[77346., 78426.],\n",
       "          [81666., 82746.]]]]))"
      ]
     },
     "execution_count": 7,
     "metadata": {},
     "output_type": "execute_result"
    }
   ],
   "source": [
    "y = conv.forward(x)\n",
    "y.shape, y"
   ]
  },
  {
   "cell_type": "code",
   "execution_count": 8,
   "metadata": {},
   "outputs": [
    {
     "data": {
      "text/plain": [
       "array([[[[ 27.,  56.],\n",
       "         [ 60., 124.]],\n",
       "\n",
       "        [[ 45.,  92.],\n",
       "         [ 96., 196.]],\n",
       "\n",
       "        [[ 63., 128.],\n",
       "         [132., 268.]]],\n",
       "\n",
       "\n",
       "       [[[ 27.,  56.],\n",
       "         [ 60., 124.]],\n",
       "\n",
       "        [[ 45.,  92.],\n",
       "         [ 96., 196.]],\n",
       "\n",
       "        [[ 63., 128.],\n",
       "         [132., 268.]]]])"
      ]
     },
     "execution_count": 8,
     "metadata": {},
     "output_type": "execute_result"
    }
   ],
   "source": [
    "conv.backward(np.ones(y.shape))"
   ]
  }
 ],
 "metadata": {
  "kernelspec": {
   "display_name": "Python 3",
   "language": "python",
   "name": "python3"
  },
  "language_info": {
   "codemirror_mode": {
    "name": "ipython",
    "version": 3
   },
   "file_extension": ".py",
   "mimetype": "text/x-python",
   "name": "python",
   "nbconvert_exporter": "python",
   "pygments_lexer": "ipython3",
   "version": "3.8.5"
  }
 },
 "nbformat": 4,
 "nbformat_minor": 4
}
