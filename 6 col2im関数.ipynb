{
 "cells": [
  {
   "cell_type": "code",
   "execution_count": 1,
   "metadata": {},
   "outputs": [],
   "source": [
    "import numpy as np"
   ]
  },
  {
   "cell_type": "markdown",
   "metadata": {},
   "source": [
    "# 2 im2col関数とcol2im関数"
   ]
  },
  {
   "cell_type": "code",
   "execution_count": 2,
   "metadata": {},
   "outputs": [],
   "source": [
    "def im2col(x, fil_size, y_size, stride, pad):\n",
    "    x_b, x_c, x_h, x_w = x.shape\n",
    "    fil_h, fil_w = fil_size, fil_size\n",
    "    y_h, y_w = y_size, y_size\n",
    "    index = -1\n",
    "    \n",
    "    x_pad = np.pad(x, [(0, 0), (0, 0), (pad, pad), (pad, pad)], \"constant\")\n",
    "    x_col = np.zeros((fil_h*fil_w, x_b, x_c, y_h, y_w))\n",
    "    \n",
    "    for h in range(fil_h):\n",
    "        h2 = h + y_h*stride\n",
    "        for w in range(fil_w):\n",
    "            index += 1\n",
    "            w2 = w + y_w*stride\n",
    "            x_col[index,:,:,:,:] = x_pad[:,:,h:h2:stride,w:w2:stride]\n",
    "    x_col = x_col.transpose(2,0,1,3,4).reshape(x_c*fil_h*fil_w, x_b*y_h*y_w)\n",
    "    \n",
    "    return x_col"
   ]
  },
  {
   "cell_type": "code",
   "execution_count": 3,
   "metadata": {},
   "outputs": [],
   "source": [
    "def col2im(dx_col, x_shape, fil_size, y_size, stride, pad):\n",
    "    x_b, x_c, x_h, x_w = x_shape\n",
    "    fil_h, fil_w = fil_size, fil_size\n",
    "    y_h, y_w = y_size, y_size\n",
    "    index = -1\n",
    "    \n",
    "    dx_col = dx_col.reshape(x_c, fil_h*fil_w, x_b, y_h, y_w).transpose(1,2,0,3,4)\n",
    "    dx = np.zeros((x_b, x_c, x_h+2*pad+stride-1, x_w+2*pad+stride-1))\n",
    "    \n",
    "    for h in range(fil_h):\n",
    "        h2 = h + y_h*stride\n",
    "        for w in range(fil_w):\n",
    "            index += 1\n",
    "            w2 = w + y_w*stride\n",
    "            #dx[:,:,h:h2:stride,w:w2:stride] = dx_col[index,:,:,:,:]\n",
    "            dx[:,:,h:h2:stride,w:w2:stride] += dx_col[index,:,:,:,:]\n",
    "    \n",
    "    return dx[:,:,pad:x_h+pad, pad:x_w+pad]"
   ]
  },
  {
   "cell_type": "markdown",
   "metadata": {},
   "source": [
    "# 3 col2im と im2colの例"
   ]
  },
  {
   "cell_type": "code",
   "execution_count": 4,
   "metadata": {},
   "outputs": [
    {
     "data": {
      "text/plain": [
       "((1, 1, 4, 4),\n",
       " array([[[[1, 1, 1, 1],\n",
       "          [2, 2, 2, 2],\n",
       "          [3, 3, 3, 3],\n",
       "          [4, 4, 4, 4]]]]))"
      ]
     },
     "execution_count": 4,
     "metadata": {},
     "output_type": "execute_result"
    }
   ],
   "source": [
    "x = np.array([[1,1,1,1],[2,2,2,2],[3,3,3,3],[4,4,4,4]]).reshape(1,1,4,4)\n",
    "x.shape, x"
   ]
  },
  {
   "cell_type": "code",
   "execution_count": 5,
   "metadata": {},
   "outputs": [
    {
     "data": {
      "text/plain": [
       "array([[1., 1., 1., 2., 2., 2., 3., 3., 3.],\n",
       "       [1., 1., 1., 2., 2., 2., 3., 3., 3.],\n",
       "       [2., 2., 2., 3., 3., 3., 4., 4., 4.],\n",
       "       [2., 2., 2., 3., 3., 3., 4., 4., 4.]])"
      ]
     },
     "execution_count": 5,
     "metadata": {},
     "output_type": "execute_result"
    }
   ],
   "source": [
    "x_col = im2col(x, 2, 3, 1, 0)\n",
    "x_col"
   ]
  },
  {
   "cell_type": "code",
   "execution_count": 6,
   "metadata": {},
   "outputs": [
    {
     "data": {
      "text/plain": [
       "array([[1., 1., 1., 1., 1., 1., 1., 1., 1.],\n",
       "       [1., 1., 1., 1., 1., 1., 1., 1., 1.],\n",
       "       [1., 1., 1., 1., 1., 1., 1., 1., 1.],\n",
       "       [1., 1., 1., 1., 1., 1., 1., 1., 1.]])"
      ]
     },
     "execution_count": 6,
     "metadata": {},
     "output_type": "execute_result"
    }
   ],
   "source": [
    "dx_col = np.ones(x_col.shape)\n",
    "dx_col"
   ]
  },
  {
   "cell_type": "code",
   "execution_count": 7,
   "metadata": {},
   "outputs": [
    {
     "data": {
      "text/plain": [
       "array([[[[1., 2., 2., 1.],\n",
       "         [2., 4., 4., 2.],\n",
       "         [2., 4., 4., 2.],\n",
       "         [1., 2., 2., 1.]]]])"
      ]
     },
     "execution_count": 7,
     "metadata": {},
     "output_type": "execute_result"
    }
   ],
   "source": [
    "dx = col2im(dx_col, x.shape, 2, 3, 1, 0)\n",
    "dx"
   ]
  }
 ],
 "metadata": {
  "kernelspec": {
   "display_name": "Python 3",
   "language": "python",
   "name": "python3"
  },
  "language_info": {
   "codemirror_mode": {
    "name": "ipython",
    "version": 3
   },
   "file_extension": ".py",
   "mimetype": "text/x-python",
   "name": "python",
   "nbconvert_exporter": "python",
   "pygments_lexer": "ipython3",
   "version": "3.8.5"
  }
 },
 "nbformat": 4,
 "nbformat_minor": 4
}
