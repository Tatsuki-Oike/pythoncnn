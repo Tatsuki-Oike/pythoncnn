{
 "cells": [
  {
   "cell_type": "code",
   "execution_count": 1,
   "metadata": {},
   "outputs": [],
   "source": [
    "import numpy as np\n",
    "np.random.seed(1)"
   ]
  },
  {
   "cell_type": "markdown",
   "metadata": {},
   "source": [
    "# 2 im2col関数とcol2im関数"
   ]
  },
  {
   "cell_type": "code",
   "execution_count": 2,
   "metadata": {},
   "outputs": [],
   "source": [
    "def im2col(x, fil_size, y_size, stride, pad):\n",
    "    x_b, x_c, x_h, x_w = x.shape\n",
    "    fil_h, fil_w = fil_size, fil_size\n",
    "    y_h, y_w = y_size, y_size\n",
    "    index = -1\n",
    "    \n",
    "    x_pad = np.pad(x, [(0, 0), (0, 0), (pad, pad), (pad, pad)], \"constant\")\n",
    "    x_col = np.zeros((fil_h*fil_w, x_b, x_c, y_h, y_w))\n",
    "    \n",
    "    for h in range(fil_h):\n",
    "        h2 = h + y_h*stride\n",
    "        for w in range(fil_w):\n",
    "            index += 1\n",
    "            w2 = w + y_w*stride\n",
    "            x_col[index,:,:,:,:] = x_pad[:,:,h:h2:stride,w:w2:stride]\n",
    "    x_col = x_col.transpose(2,0,1,3,4).reshape(x_c*fil_h*fil_w, x_b*y_h*y_w)\n",
    "    \n",
    "    return x_col\n",
    "\n",
    "def col2im(dx_col, x_shape, fil_size, y_size, stride, pad):\n",
    "    x_b, x_c, x_h, x_w = x_shape\n",
    "    fil_h, fil_w = fil_size, fil_size\n",
    "    y_h, y_w = y_size, y_size\n",
    "    index = -1\n",
    "    \n",
    "    dx_col = dx_col.reshape(x_c, fil_h*fil_w, x_b, y_h, y_w).transpose(1,2,0,3,4)\n",
    "    dx = np.zeros((x_b, x_c, x_h+2*pad+stride-1, x_w+2*pad+stride-1))\n",
    "    \n",
    "    for h in range(fil_h):\n",
    "        h2 = h + y_h*stride\n",
    "        for w in range(fil_w):\n",
    "            index += 1\n",
    "            w2 = w + y_w*stride\n",
    "            dx[:,:,h:h2:stride,w:w2:stride] += dx_col[index,:,:,:,:]\n",
    "    \n",
    "    return dx[:,:,pad:x_h+pad, pad:x_w+pad]"
   ]
  },
  {
   "cell_type": "markdown",
   "metadata": {},
   "source": [
    "# 3 Pooling実装"
   ]
  },
  {
   "cell_type": "markdown",
   "metadata": {},
   "source": [
    "## 3.1 順伝播"
   ]
  },
  {
   "cell_type": "code",
   "execution_count": 3,
   "metadata": {},
   "outputs": [
    {
     "data": {
      "text/plain": [
       "array([[[[5, 8, 9, 5],\n",
       "         [0, 0, 1, 7],\n",
       "         [6, 9, 2, 4],\n",
       "         [5, 2, 4, 2]],\n",
       "\n",
       "        [[4, 7, 7, 9],\n",
       "         [1, 7, 0, 6],\n",
       "         [9, 9, 7, 6],\n",
       "         [9, 1, 0, 1]],\n",
       "\n",
       "        [[8, 8, 3, 9],\n",
       "         [8, 7, 3, 6],\n",
       "         [5, 1, 9, 3],\n",
       "         [4, 8, 1, 4]]],\n",
       "\n",
       "\n",
       "       [[[0, 3, 9, 2],\n",
       "         [0, 4, 9, 2],\n",
       "         [7, 7, 9, 8],\n",
       "         [6, 9, 3, 7]],\n",
       "\n",
       "        [[7, 4, 5, 9],\n",
       "         [3, 6, 8, 0],\n",
       "         [2, 7, 7, 9],\n",
       "         [7, 3, 0, 8]],\n",
       "\n",
       "        [[7, 7, 1, 1],\n",
       "         [3, 0, 8, 6],\n",
       "         [4, 5, 6, 2],\n",
       "         [5, 7, 8, 4]]]])"
      ]
     },
     "execution_count": 3,
     "metadata": {},
     "output_type": "execute_result"
    }
   ],
   "source": [
    "x = np.random.randint(0,10,2*3*4*4).reshape(2,3,4,4)\n",
    "x"
   ]
  },
  {
   "cell_type": "code",
   "execution_count": 4,
   "metadata": {},
   "outputs": [
    {
     "data": {
      "text/plain": [
       "array([[5., 8., 0., 0.],\n",
       "       [4., 7., 1., 7.],\n",
       "       [8., 8., 8., 7.],\n",
       "       [9., 5., 1., 7.],\n",
       "       [7., 9., 0., 6.],\n",
       "       [3., 9., 3., 6.],\n",
       "       [6., 9., 5., 2.],\n",
       "       [9., 9., 9., 1.],\n",
       "       [5., 1., 4., 8.],\n",
       "       [2., 4., 4., 2.],\n",
       "       [7., 6., 0., 1.],\n",
       "       [9., 3., 1., 4.],\n",
       "       [0., 3., 0., 4.],\n",
       "       [7., 4., 3., 6.],\n",
       "       [7., 7., 3., 0.],\n",
       "       [9., 2., 9., 2.],\n",
       "       [5., 9., 8., 0.],\n",
       "       [1., 1., 8., 6.],\n",
       "       [7., 7., 6., 9.],\n",
       "       [2., 7., 7., 3.],\n",
       "       [4., 5., 5., 7.],\n",
       "       [9., 8., 3., 7.],\n",
       "       [7., 9., 0., 8.],\n",
       "       [6., 2., 8., 4.]])"
      ]
     },
     "execution_count": 4,
     "metadata": {},
     "output_type": "execute_result"
    }
   ],
   "source": [
    "x_col = im2col(x,2,2,2,0).T.reshape(-1,4)\n",
    "x_col"
   ]
  },
  {
   "cell_type": "code",
   "execution_count": 5,
   "metadata": {},
   "outputs": [
    {
     "data": {
      "text/plain": [
       "array([8., 7., 8., 9., 9., 9., 9., 9., 8., 4., 7., 9., 4., 7., 7., 9., 9.,\n",
       "       8., 9., 7., 7., 9., 9., 8.])"
      ]
     },
     "execution_count": 5,
     "metadata": {},
     "output_type": "execute_result"
    }
   ],
   "source": [
    "y = np.max(x_col, axis=1)\n",
    "y"
   ]
  },
  {
   "cell_type": "code",
   "execution_count": 6,
   "metadata": {},
   "outputs": [
    {
     "data": {
      "text/plain": [
       "array([[[[8., 9.],\n",
       "         [9., 4.]],\n",
       "\n",
       "        [[7., 9.],\n",
       "         [9., 7.]],\n",
       "\n",
       "        [[8., 9.],\n",
       "         [8., 9.]]],\n",
       "\n",
       "\n",
       "       [[[4., 9.],\n",
       "         [9., 9.]],\n",
       "\n",
       "        [[7., 9.],\n",
       "         [7., 9.]],\n",
       "\n",
       "        [[7., 8.],\n",
       "         [7., 8.]]]])"
      ]
     },
     "execution_count": 6,
     "metadata": {},
     "output_type": "execute_result"
    }
   ],
   "source": [
    "y = y.reshape(2, 2, 2, 3).transpose(0,3,1,2)\n",
    "y"
   ]
  },
  {
   "cell_type": "code",
   "execution_count": 7,
   "metadata": {},
   "outputs": [
    {
     "data": {
      "text/plain": [
       "array([1, 1, 0, 0, 1, 1, 1, 0, 3, 1, 0, 0, 3, 0, 0, 0, 1, 2, 3, 1, 3, 0,\n",
       "       1, 2])"
      ]
     },
     "execution_count": 7,
     "metadata": {},
     "output_type": "execute_result"
    }
   ],
   "source": [
    "max_index = np.argmax(x_col, axis=1)\n",
    "max_index"
   ]
  },
  {
   "cell_type": "markdown",
   "metadata": {},
   "source": [
    "## 3.2 逆伝播"
   ]
  },
  {
   "cell_type": "code",
   "execution_count": 8,
   "metadata": {},
   "outputs": [
    {
     "data": {
      "text/plain": [
       "array([[[[1., 1., 1.],\n",
       "         [1., 1., 1.]],\n",
       "\n",
       "        [[1., 1., 1.],\n",
       "         [1., 1., 1.]]],\n",
       "\n",
       "\n",
       "       [[[1., 1., 1.],\n",
       "         [1., 1., 1.]],\n",
       "\n",
       "        [[1., 1., 1.],\n",
       "         [1., 1., 1.]]]])"
      ]
     },
     "execution_count": 8,
     "metadata": {},
     "output_type": "execute_result"
    }
   ],
   "source": [
    "dy = np.ones(y.shape).transpose(0,2,3,1)\n",
    "dy"
   ]
  },
  {
   "cell_type": "code",
   "execution_count": 9,
   "metadata": {},
   "outputs": [
    {
     "data": {
      "text/plain": [
       "array([[0., 0., 0., 0., 0., 0., 0., 0., 0., 0., 0., 0., 0., 0., 0., 0.,\n",
       "        0., 0., 0., 0., 0., 0., 0., 0.],\n",
       "       [0., 0., 0., 0., 0., 0., 0., 0., 0., 0., 0., 0., 0., 0., 0., 0.,\n",
       "        0., 0., 0., 0., 0., 0., 0., 0.],\n",
       "       [0., 0., 0., 0., 0., 0., 0., 0., 0., 0., 0., 0., 0., 0., 0., 0.,\n",
       "        0., 0., 0., 0., 0., 0., 0., 0.],\n",
       "       [0., 0., 0., 0., 0., 0., 0., 0., 0., 0., 0., 0., 0., 0., 0., 0.,\n",
       "        0., 0., 0., 0., 0., 0., 0., 0.]])"
      ]
     },
     "execution_count": 9,
     "metadata": {},
     "output_type": "execute_result"
    }
   ],
   "source": [
    "dx = np.zeros((2*2, dy.size))\n",
    "dx"
   ]
  },
  {
   "cell_type": "code",
   "execution_count": 10,
   "metadata": {},
   "outputs": [
    {
     "data": {
      "text/plain": [
       "array([[0., 0., 1., 1., 0., 0., 0., 1., 0., 0., 1., 1., 0., 1., 1., 1.,\n",
       "        0., 0., 0., 0., 0., 1., 0., 0.],\n",
       "       [1., 1., 0., 0., 1., 1., 1., 0., 0., 1., 0., 0., 0., 0., 0., 0.,\n",
       "        1., 0., 0., 1., 0., 0., 1., 0.],\n",
       "       [0., 0., 0., 0., 0., 0., 0., 0., 0., 0., 0., 0., 0., 0., 0., 0.,\n",
       "        0., 1., 0., 0., 0., 0., 0., 1.],\n",
       "       [0., 0., 0., 0., 0., 0., 0., 0., 1., 0., 0., 0., 1., 0., 0., 0.,\n",
       "        0., 0., 1., 0., 1., 0., 0., 0.]])"
      ]
     },
     "execution_count": 10,
     "metadata": {},
     "output_type": "execute_result"
    }
   ],
   "source": [
    "dx[max_index.reshape(-1), np.arange(dy.size)] = dy.reshape(-1)\n",
    "dx"
   ]
  },
  {
   "cell_type": "code",
   "execution_count": 11,
   "metadata": {},
   "outputs": [
    {
     "data": {
      "text/plain": [
       "array([[0., 1., 0., 0., 0., 1., 0., 1.],\n",
       "       [1., 0., 1., 1., 0., 0., 0., 0.],\n",
       "       [0., 0., 0., 0., 0., 0., 0., 0.],\n",
       "       [0., 0., 0., 0., 1., 0., 1., 0.],\n",
       "       [0., 0., 1., 1., 1., 0., 0., 0.],\n",
       "       [1., 1., 0., 0., 0., 1., 1., 1.],\n",
       "       [0., 0., 0., 0., 0., 0., 0., 0.],\n",
       "       [0., 0., 0., 0., 0., 0., 0., 0.],\n",
       "       [1., 0., 0., 1., 1., 0., 0., 0.],\n",
       "       [0., 1., 0., 0., 0., 0., 0., 0.],\n",
       "       [0., 0., 0., 0., 0., 1., 0., 1.],\n",
       "       [0., 0., 1., 0., 0., 0., 1., 0.]])"
      ]
     },
     "execution_count": 11,
     "metadata": {},
     "output_type": "execute_result"
    }
   ],
   "source": [
    "dx = dx.reshape(2, 2, 2, 2, 2, 3).transpose(5,0,1,2,3,4).reshape(3*2*2, 2*2*2)\n",
    "dx"
   ]
  },
  {
   "cell_type": "code",
   "execution_count": 12,
   "metadata": {},
   "outputs": [
    {
     "data": {
      "text/plain": [
       "array([[[[0., 1., 1., 0.],\n",
       "         [0., 0., 0., 0.],\n",
       "         [0., 1., 0., 1.],\n",
       "         [0., 0., 0., 0.]],\n",
       "\n",
       "        [[0., 1., 0., 1.],\n",
       "         [0., 0., 0., 0.],\n",
       "         [1., 0., 1., 0.],\n",
       "         [0., 0., 0., 0.]],\n",
       "\n",
       "        [[1., 0., 0., 1.],\n",
       "         [0., 0., 0., 0.],\n",
       "         [0., 0., 1., 0.],\n",
       "         [0., 1., 0., 0.]]],\n",
       "\n",
       "\n",
       "       [[[0., 0., 1., 0.],\n",
       "         [0., 1., 0., 0.],\n",
       "         [0., 0., 1., 0.],\n",
       "         [0., 1., 0., 0.]],\n",
       "\n",
       "        [[1., 0., 0., 1.],\n",
       "         [0., 0., 0., 0.],\n",
       "         [0., 1., 0., 1.],\n",
       "         [0., 0., 0., 0.]],\n",
       "\n",
       "        [[1., 0., 0., 0.],\n",
       "         [0., 0., 1., 0.],\n",
       "         [0., 0., 0., 0.],\n",
       "         [0., 1., 1., 0.]]]])"
      ]
     },
     "execution_count": 12,
     "metadata": {},
     "output_type": "execute_result"
    }
   ],
   "source": [
    "col2im(dx, x.shape, 2, 2, 2, 0)"
   ]
  },
  {
   "cell_type": "markdown",
   "metadata": {},
   "source": [
    "# 4 Pooling層"
   ]
  },
  {
   "cell_type": "code",
   "execution_count": 13,
   "metadata": {},
   "outputs": [],
   "source": [
    "class Pooling:\n",
    "    \n",
    "    def __init__(self, pool):\n",
    "        self.pool = pool\n",
    "        \n",
    "    def forward(self, x):\n",
    "        self.xshape = x.shape\n",
    "        self.x_b, self.x_c, self.x_h, self.x_w = x.shape\n",
    "        self.y_h = self.x_h//self.pool if self.x_h%self.pool==0 else self.x_h//self.pool+1\n",
    "        self.y_w = self.x_w//self.pool if self.x_w%self.pool==0 else self.x_w//self.pool+1\n",
    "        \n",
    "        x_col = im2col(x, self.pool, self.y_h, self.pool, 0).T.reshape(-1,self.pool*self.pool)\n",
    "        y = np.max(x_col, axis=1)\n",
    "        self.y = y.reshape(self.x_b, self.y_h, self.y_w, self.x_c).transpose(0,3,1,2)\n",
    "        self.max_index = np.argmax(x_col, axis=1)\n",
    "        return self.y\n",
    "    \n",
    "    def backward(self, dy):\n",
    "        dy = dy.transpose(0,2,3,1)\n",
    "        dx = np.zeros((self.pool*self.pool, dy.size))\n",
    "        dx[self.max_index.reshape(-1), np.arange(dy.size)] = dy.reshape(-1)\n",
    "        dx = dx.reshape(self.pool, self.pool, self.x_b, self.y_h, self.y_w, self.x_c)\n",
    "        dx = dx.transpose(5,0,1,2,3,4)\n",
    "        dx = dx.reshape(self.x_c*self.pool*self.pool, self.x_b*self.y_h*self.y_w)\n",
    "        self.dx = col2im(dx, self.xshape, self.pool, self.y_h, self.pool, 0)\n",
    "        return self.dx"
   ]
  },
  {
   "cell_type": "code",
   "execution_count": 14,
   "metadata": {},
   "outputs": [],
   "source": [
    "pool = Pooling(2)"
   ]
  },
  {
   "cell_type": "code",
   "execution_count": 15,
   "metadata": {},
   "outputs": [
    {
     "data": {
      "text/plain": [
       "(2, 3, 4, 4)"
      ]
     },
     "execution_count": 15,
     "metadata": {},
     "output_type": "execute_result"
    }
   ],
   "source": [
    "x.shape"
   ]
  },
  {
   "cell_type": "code",
   "execution_count": 16,
   "metadata": {},
   "outputs": [
    {
     "data": {
      "text/plain": [
       "array([[[[8., 9.],\n",
       "         [9., 4.]],\n",
       "\n",
       "        [[7., 9.],\n",
       "         [9., 7.]],\n",
       "\n",
       "        [[8., 9.],\n",
       "         [8., 9.]]],\n",
       "\n",
       "\n",
       "       [[[4., 9.],\n",
       "         [9., 9.]],\n",
       "\n",
       "        [[7., 9.],\n",
       "         [7., 9.]],\n",
       "\n",
       "        [[7., 8.],\n",
       "         [7., 8.]]]])"
      ]
     },
     "execution_count": 16,
     "metadata": {},
     "output_type": "execute_result"
    }
   ],
   "source": [
    "y = pool.forward(x)\n",
    "y"
   ]
  }
 ],
 "metadata": {
  "kernelspec": {
   "display_name": "Python 3",
   "language": "python",
   "name": "python3"
  },
  "language_info": {
   "codemirror_mode": {
    "name": "ipython",
    "version": 3
   },
   "file_extension": ".py",
   "mimetype": "text/x-python",
   "name": "python",
   "nbconvert_exporter": "python",
   "pygments_lexer": "ipython3",
   "version": "3.8.5"
  }
 },
 "nbformat": 4,
 "nbformat_minor": 4
}
