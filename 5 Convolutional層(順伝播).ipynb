{
 "cells": [
  {
   "cell_type": "code",
   "execution_count": 1,
   "metadata": {},
   "outputs": [],
   "source": [
    "import numpy as np"
   ]
  },
  {
   "cell_type": "markdown",
   "metadata": {},
   "source": [
    "# 2 im2col関数"
   ]
  },
  {
   "cell_type": "code",
   "execution_count": 2,
   "metadata": {},
   "outputs": [],
   "source": [
    "def im2col(x, fil_size, y_size, stride, pad):\n",
    "    x_b, x_c, x_h, x_w = x.shape\n",
    "    fil_h, fil_w = fil_size, fil_size\n",
    "    y_h, y_w = y_size, y_size\n",
    "    index = -1\n",
    "    \n",
    "    x_pad = np.pad(x, [(0, 0), (0, 0), (pad, pad), (pad, pad)], \"constant\")\n",
    "    x_col = np.zeros((fil_h*fil_w, x_b, x_c, y_h, y_w))\n",
    "    \n",
    "    for h in range(fil_h):\n",
    "        h2 = h + y_h*stride\n",
    "        for w in range(fil_w):\n",
    "            index += 1\n",
    "            w2 = w + y_w*stride\n",
    "            x_col[index,:,:,:,:] = x_pad[:,:,h:h2:stride,w:w2:stride]\n",
    "    x_col = x_col.transpose(2,0,1,3,4).reshape(x_c*fil_h*fil_w, x_b*y_h*y_w)\n",
    "    \n",
    "    return x_col"
   ]
  },
  {
   "cell_type": "code",
   "execution_count": 3,
   "metadata": {},
   "outputs": [
    {
     "data": {
      "text/plain": [
       "(27, 12)"
      ]
     },
     "execution_count": 3,
     "metadata": {},
     "output_type": "execute_result"
    }
   ],
   "source": [
    "x = np.arange(144).reshape(3,3,4,4)\n",
    "x_col = im2col(x,3,2,1,0)\n",
    "x_col.shape"
   ]
  },
  {
   "cell_type": "code",
   "execution_count": 4,
   "metadata": {},
   "outputs": [
    {
     "data": {
      "text/plain": [
       "array([[ 0,  1,  2,  3,  4,  5,  6,  7,  8,  9, 10, 11, 12, 13, 14, 15,\n",
       "        16, 17, 18, 19, 20, 21, 22, 23, 24, 25, 26],\n",
       "       [27, 28, 29, 30, 31, 32, 33, 34, 35, 36, 37, 38, 39, 40, 41, 42,\n",
       "        43, 44, 45, 46, 47, 48, 49, 50, 51, 52, 53]])"
      ]
     },
     "execution_count": 4,
     "metadata": {},
     "output_type": "execute_result"
    }
   ],
   "source": [
    "w = np.arange(54).reshape(2,3,3,3)\n",
    "w_col = w.reshape(2,-1)\n",
    "w_col"
   ]
  },
  {
   "cell_type": "code",
   "execution_count": 5,
   "metadata": {},
   "outputs": [
    {
     "data": {
      "text/plain": [
       "array([[1., 1.]])"
      ]
     },
     "execution_count": 5,
     "metadata": {},
     "output_type": "execute_result"
    }
   ],
   "source": [
    "b = np.ones((1,2))\n",
    "b"
   ]
  },
  {
   "cell_type": "code",
   "execution_count": 6,
   "metadata": {},
   "outputs": [
    {
     "data": {
      "text/plain": [
       "array([[ 10197.,  10548.,  11601.,  11952.,  27045.,  27396.,  28449.,\n",
       "         28800.,  43893.,  44244.,  45297.,  45648.],\n",
       "       [ 25506.,  26586.,  29826.,  30906.,  77346.,  78426.,  81666.,\n",
       "         82746., 129186., 130266., 133506., 134586.]])"
      ]
     },
     "execution_count": 6,
     "metadata": {},
     "output_type": "execute_result"
    }
   ],
   "source": [
    "y = np.dot(w_col, x_col)\n",
    "y"
   ]
  },
  {
   "cell_type": "code",
   "execution_count": 7,
   "metadata": {},
   "outputs": [
    {
     "data": {
      "text/plain": [
       "array([[ 10198.,  25507.],\n",
       "       [ 10549.,  26587.],\n",
       "       [ 11602.,  29827.],\n",
       "       [ 11953.,  30907.],\n",
       "       [ 27046.,  77347.],\n",
       "       [ 27397.,  78427.],\n",
       "       [ 28450.,  81667.],\n",
       "       [ 28801.,  82747.],\n",
       "       [ 43894., 129187.],\n",
       "       [ 44245., 130267.],\n",
       "       [ 45298., 133507.],\n",
       "       [ 45649., 134587.]])"
      ]
     },
     "execution_count": 7,
     "metadata": {},
     "output_type": "execute_result"
    }
   ],
   "source": [
    "y = y.T + b\n",
    "y"
   ]
  },
  {
   "cell_type": "code",
   "execution_count": 8,
   "metadata": {},
   "outputs": [
    {
     "data": {
      "text/plain": [
       "array([[[[ 10198.,  10549.],\n",
       "         [ 11602.,  11953.]],\n",
       "\n",
       "        [[ 25507.,  26587.],\n",
       "         [ 29827.,  30907.]]],\n",
       "\n",
       "\n",
       "       [[[ 27046.,  27397.],\n",
       "         [ 28450.,  28801.]],\n",
       "\n",
       "        [[ 77347.,  78427.],\n",
       "         [ 81667.,  82747.]]],\n",
       "\n",
       "\n",
       "       [[[ 43894.,  44245.],\n",
       "         [ 45298.,  45649.]],\n",
       "\n",
       "        [[129187., 130267.],\n",
       "         [133507., 134587.]]]])"
      ]
     },
     "execution_count": 8,
     "metadata": {},
     "output_type": "execute_result"
    }
   ],
   "source": [
    "y.reshape(3,2,2,2).transpose(0,3,1,2)"
   ]
  },
  {
   "cell_type": "markdown",
   "metadata": {},
   "source": [
    "# 3 convolutional層"
   ]
  },
  {
   "cell_type": "code",
   "execution_count": 9,
   "metadata": {},
   "outputs": [],
   "source": [
    "class Conv:\n",
    "    \n",
    "    def __init__(self, x_c, y_c, fil_size, stride, pad):\n",
    "        self.x_c, self.y_c = x_c, y_c\n",
    "        self.fil_h, self.fil_w = fil_size, fil_size\n",
    "        self.stride, self.pad = stride, pad\n",
    "        \n",
    "        self.w = np.arange(54).reshape(2,3,3,3)\n",
    "        self.b = np.zeros((1,self.y_c))\n",
    "        #self.w = np.random.randn(self.y_c, self.x_c, self.fil_h, self.fil_w)\n",
    "        #self.b = np.random.randn(1, self.y_c)\n",
    "        \n",
    "    def forward(self, x):\n",
    "        \n",
    "        self.x_b, self.x_c, self.x_h, self.x_w = x.shape\n",
    "        self.y_h = (self.x_h - self.fil_h + 2*self.pad) // self.stride + 1\n",
    "        self.y_w = (self.x_w - self.fil_w + 2*self.pad) // self.stride + 1\n",
    "        \n",
    "        self.x_col = im2col(x, self.fil_h, self.y_h, self.stride, self.pad)\n",
    "        self.w_col = self.w.reshape(self.y_c, self.x_c*self.fil_h*self.fil_w)\n",
    "        \n",
    "        y = np.dot(self.w_col, self.x_col).T + self.b\n",
    "        self.y = y.reshape(self.x_b, self.y_h, self.y_w, self.y_c).transpose(0,3,1,2)\n",
    "        \n",
    "        return self.y"
   ]
  },
  {
   "cell_type": "code",
   "execution_count": 10,
   "metadata": {},
   "outputs": [
    {
     "data": {
      "text/plain": [
       "array([[[[ 10197.,  10548.],\n",
       "         [ 11601.,  11952.]],\n",
       "\n",
       "        [[ 25506.,  26586.],\n",
       "         [ 29826.,  30906.]]],\n",
       "\n",
       "\n",
       "       [[[ 27045.,  27396.],\n",
       "         [ 28449.,  28800.]],\n",
       "\n",
       "        [[ 77346.,  78426.],\n",
       "         [ 81666.,  82746.]]],\n",
       "\n",
       "\n",
       "       [[[ 43893.,  44244.],\n",
       "         [ 45297.,  45648.]],\n",
       "\n",
       "        [[129186., 130266.],\n",
       "         [133506., 134586.]]]])"
      ]
     },
     "execution_count": 10,
     "metadata": {},
     "output_type": "execute_result"
    }
   ],
   "source": [
    "conv = Conv(3,2,3,1,0)\n",
    "conv.forward(x)"
   ]
  }
 ],
 "metadata": {
  "kernelspec": {
   "display_name": "Python 3",
   "language": "python",
   "name": "python3"
  },
  "language_info": {
   "codemirror_mode": {
    "name": "ipython",
    "version": 3
   },
   "file_extension": ".py",
   "mimetype": "text/x-python",
   "name": "python",
   "nbconvert_exporter": "python",
   "pygments_lexer": "ipython3",
   "version": "3.8.5"
  }
 },
 "nbformat": 4,
 "nbformat_minor": 4
}
