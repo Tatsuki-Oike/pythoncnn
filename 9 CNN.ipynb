{
 "cells": [
  {
   "cell_type": "markdown",
   "metadata": {},
   "source": [
    "# 2 ライブラリとデータ"
   ]
  },
  {
   "cell_type": "markdown",
   "metadata": {},
   "source": [
    "## 2.1 ライブラリとデータ"
   ]
  },
  {
   "cell_type": "code",
   "execution_count": 1,
   "metadata": {},
   "outputs": [],
   "source": [
    "import numpy as np\n",
    "import matplotlib.pyplot as plt\n",
    "from sklearn import datasets\n",
    "from sklearn.model_selection import train_test_split\n",
    "np.random.seed(1)"
   ]
  },
  {
   "cell_type": "code",
   "execution_count": 2,
   "metadata": {},
   "outputs": [],
   "source": [
    "dataset = datasets.load_digits()\n",
    "x = np.asarray(dataset.data)\n",
    "t = np.asarray(dataset.target)"
   ]
  },
  {
   "cell_type": "markdown",
   "metadata": {},
   "source": [
    "## 2.2 データの可視化"
   ]
  },
  {
   "cell_type": "code",
   "execution_count": 3,
   "metadata": {},
   "outputs": [
    {
     "data": {
      "text/plain": [
       "<matplotlib.image.AxesImage at 0x7fe708cbb340>"
      ]
     },
     "execution_count": 3,
     "metadata": {},
     "output_type": "execute_result"
    },
    {
     "data": {
      "image/png": "[encoded data removed]",
      "text/plain": [
       "<Figure size 432x288 with 1 Axes>"
      ]
     },
     "metadata": {
      "needs_background": "light"
     },
     "output_type": "display_data"
    }
   ],
   "source": [
    "image = x[0,].reshape(8,8)\n",
    "plt.imshow(image, cmap=\"binary_r\")"
   ]
  },
  {
   "cell_type": "code",
   "execution_count": 4,
   "metadata": {},
   "outputs": [
    {
     "data": {
      "text/plain": [
       "array([0, 1, 2, ..., 8, 9, 8])"
      ]
     },
     "execution_count": 4,
     "metadata": {},
     "output_type": "execute_result"
    }
   ],
   "source": [
    "t"
   ]
  },
  {
   "cell_type": "markdown",
   "metadata": {},
   "source": [
    "## 2.3 データの前処理"
   ]
  },
  {
   "cell_type": "code",
   "execution_count": 5,
   "metadata": {},
   "outputs": [],
   "source": [
    "x = (x - np.average(x)) / np.std(x)"
   ]
  },
  {
   "cell_type": "code",
   "execution_count": 6,
   "metadata": {},
   "outputs": [],
   "source": [
    "t_zero = np.zeros((len(t), 10))\n",
    "for i in range(len(t_zero)):\n",
    "    t_zero[i, t[i]] = 1"
   ]
  },
  {
   "cell_type": "code",
   "execution_count": 7,
   "metadata": {},
   "outputs": [],
   "source": [
    "x_train, x_test, t_train, t_test = train_test_split(x, t_zero)"
   ]
  },
  {
   "cell_type": "code",
   "execution_count": 8,
   "metadata": {},
   "outputs": [
    {
     "data": {
      "text/plain": [
       "((1347, 64), (450, 64), (1347, 10), (450, 10))"
      ]
     },
     "execution_count": 8,
     "metadata": {},
     "output_type": "execute_result"
    }
   ],
   "source": [
    "x_train.shape, x_test.shape, t_train.shape, t_test.shape"
   ]
  },
  {
   "cell_type": "markdown",
   "metadata": {},
   "source": [
    "# 3 モデル"
   ]
  },
  {
   "cell_type": "code",
   "execution_count": 9,
   "metadata": {},
   "outputs": [],
   "source": [
    "class Optimizer:\n",
    "    def step(self, lr):\n",
    "        self.w -= lr * self.dw\n",
    "        self.b -= lr * self.db\n",
    "\n",
    "class Linear(Optimizer):\n",
    "    def __init__(self, x_n, y_n):\n",
    "        self.w = np.random.randn(x_n, y_n) * np.sqrt(2/x_n)\n",
    "        self.b = np.zeros(y_n)\n",
    "    def forward(self, x):\n",
    "        self.x = x\n",
    "        self.y = np.dot(x, self.w) + self.b\n",
    "        return self.y\n",
    "    def backward(self, dy):\n",
    "        self.dw = np.dot(self.x.T, dy)\n",
    "        self.db = np.sum(dy, axis=0)\n",
    "        self.dx = np.dot(dy, self.w.T)\n",
    "        return self.dx\n",
    "    \n",
    "class Relu:\n",
    "    def forward(self, x):\n",
    "        self.x = x\n",
    "        y = np.where(self.x <= 0, 0, self.x)\n",
    "        return y\n",
    "    def backward(self, dy):\n",
    "        dx =dy * np.where(self.x <= 0, 0, 1)\n",
    "        return dx\n",
    "    \n",
    "class CELoss:\n",
    "    def forward(self, x, t):\n",
    "        self.t = t\n",
    "        self.y = np.exp(x)/np.sum(np.exp(x), axis=1, keepdims=True)  # ソフトマックス関数\n",
    "        L = -np.sum(t*np.log(self.y+1e-7)) / len(self.y)\n",
    "        return L\n",
    "    def backward(self):\n",
    "        dx = self.y - self.t\n",
    "        return dx"
   ]
  },
  {
   "cell_type": "code",
   "execution_count": 10,
   "metadata": {},
   "outputs": [],
   "source": [
    "def im2col(x, fil_size, y_size, stride, pad):\n",
    "    x_b, x_c, x_h, x_w = x.shape\n",
    "    fil_h, fil_w = fil_size, fil_size\n",
    "    y_h, y_w = y_size, y_size\n",
    "    index = -1\n",
    "    \n",
    "    x_pad = np.pad(x, [(0, 0), (0, 0), (pad, pad), (pad, pad)], \"constant\")\n",
    "    x_col = np.zeros((fil_h*fil_w, x_b, x_c, y_h, y_w))\n",
    "    \n",
    "    for h in range(fil_h):\n",
    "        h2 = h + y_h*stride\n",
    "        for w in range(fil_w):\n",
    "            index += 1\n",
    "            w2 = w + y_w*stride\n",
    "            x_col[index,:,:,:,:] = x_pad[:,:,h:h2:stride,w:w2:stride]\n",
    "    x_col = x_col.transpose(2,0,1,3,4).reshape(x_c*fil_h*fil_w, x_b*y_h*y_w)\n",
    "    \n",
    "    return x_col\n",
    "\n",
    "def col2im(dx_col, x_shape, fil_size, y_size, stride, pad):\n",
    "    x_b, x_c, x_h, x_w = x_shape\n",
    "    fil_h, fil_w = fil_size, fil_size\n",
    "    y_h, y_w = y_size, y_size\n",
    "    index = -1\n",
    "    \n",
    "    dx_col = dx_col.reshape(x_c, fil_h*fil_w, x_b, y_h, y_w).transpose(1,2,0,3,4)\n",
    "    dx = np.zeros((x_b, x_c, x_h+2*pad+stride-1, x_w+2*pad+stride-1))\n",
    "    \n",
    "    for h in range(fil_h):\n",
    "        h2 = h + y_h*stride\n",
    "        for w in range(fil_w):\n",
    "            index += 1\n",
    "            w2 = w + y_w*stride\n",
    "            dx[:,:,h:h2:stride,w:w2:stride] += dx_col[index,:,:,:,:]\n",
    "    \n",
    "    return dx[:,:,pad:x_h+pad, pad:x_w+pad]"
   ]
  },
  {
   "cell_type": "code",
   "execution_count": 11,
   "metadata": {},
   "outputs": [],
   "source": [
    "class Conv(Optimizer):\n",
    "    \n",
    "    def __init__(self, x_c, y_c, fil_size, stride, pad):\n",
    "        self.x_c, self.y_c = x_c, y_c\n",
    "        self.fil_h, self.fil_w = fil_size, fil_size\n",
    "        self.stride, self.pad = stride, pad\n",
    "        \n",
    "        self.w = np.random.randn(self.y_c, self.x_c, self.fil_h, self.fil_w)\n",
    "        self.b = np.random.randn(1, self.y_c)\n",
    "        \n",
    "    def forward(self, x):\n",
    "        self.xshape = x.shape\n",
    "        self.x_b, self.x_c, self.x_h, self.x_w = x.shape\n",
    "        self.y_h = (self.x_h - self.fil_h + 2*self.pad) // self.stride + 1\n",
    "        self.y_w = (self.x_w - self.fil_w + 2*self.pad) // self.stride + 1\n",
    "        self.y0 = im2col(x, self.fil_h, self.y_h, self.stride, self.pad)\n",
    "        self.w_col = self.w.reshape(self.y_c, self.x_c*self.fil_h*self.fil_w)\n",
    "        y = np.dot(self.w_col, self.y0).T + self.b\n",
    "        self.y = y.reshape(self.x_b, self.y_h, self.y_w, self.y_c).transpose(0,3,1,2)\n",
    "        return self.y\n",
    "    \n",
    "    def backward(self, dy):\n",
    "        dy = dy.transpose(0,2,3,1).reshape(self.x_b*self.y_h*self.y_w, self.y_c)\n",
    "        dw = np.dot(self.y0, dy)\n",
    "        self.dw = dw.T.reshape(self.y_c, self.x_c, self.fil_h, self.fil_w)\n",
    "        self.db = np.sum(dy, axis=0)\n",
    "        dx = np.dot(dy, self.w_col)\n",
    "        self.dx = col2im(dx.T, (self.xshape), self.fil_h, self.y_h, self.stride, self.pad)\n",
    "        return self.dx\n",
    "    \n",
    "class Pooling:\n",
    "    \n",
    "    def __init__(self, pool):\n",
    "        self.pool = pool\n",
    "        \n",
    "    def forward(self, x):\n",
    "        self.xshape = x.shape\n",
    "        self.x_b, self.x_c, self.x_h, self.x_w = x.shape\n",
    "        self.y_h = self.x_h//self.pool if self.x_h%self.pool==0 else self.x_h//self.pool+1\n",
    "        self.y_w = self.x_w//self.pool if self.x_w%self.pool==0 else self.x_w//self.pool+1\n",
    "        x_col = im2col(x, self.pool, self.y_h, self.pool, 0).T.reshape(-1,self.pool*self.pool)\n",
    "        y = np.max(x_col, axis=1)\n",
    "        self.y = y.reshape(self.x_b, self.y_h, self.y_w, self.x_c).transpose(0,3,1,2)\n",
    "        self.max_index = np.argmax(x_col, axis=1)\n",
    "        return self.y\n",
    "    \n",
    "    def backward(self, dy):\n",
    "        dy = dy.transpose(0,2,3,1)\n",
    "        dx = np.zeros((self.pool*self.pool, dy.size))\n",
    "        dx[self.max_index.reshape(-1), np.arange(dy.size)] = dy.reshape(-1)\n",
    "        dx = dx.reshape(self.pool, self.pool, self.x_b, self.y_h, self.y_w, self.x_c)\n",
    "        dx = dx.transpose(5,0,1,2,3,4)\n",
    "        dx = dx.reshape(self.x_c*self.pool*self.pool, self.x_b*self.y_h*self.y_w)\n",
    "        self.dx = col2im(dx, self.xshape, self.pool, self.y_h, self.pool, 0)\n",
    "        return self.dx"
   ]
  },
  {
   "cell_type": "code",
   "execution_count": 12,
   "metadata": {},
   "outputs": [],
   "source": [
    "conv = Conv(1, 8, 3, 1, 1)\n",
    "relu1 = Relu()\n",
    "pool = Pooling(2)\n",
    "line1 = Linear(128, 64)\n",
    "relu2 = Relu()\n",
    "line2 = Linear(64, 10)\n",
    "celoss = CELoss()\n",
    "\n",
    "def model(x):\n",
    "    y1 = conv.forward(x)\n",
    "    y1 = relu1.forward(y1)\n",
    "    y2 = pool.forward(y1)\n",
    "    y3 = y2.reshape(x.shape[0],-1)\n",
    "    y4 = line1.forward(y3)\n",
    "    y4 = relu2.forward(y4)\n",
    "    y5 = line2.forward(y4)\n",
    "    return y5\n",
    "def loss(y, t):\n",
    "    L = celoss.forward(y, t)\n",
    "    return L\n",
    "def backward():\n",
    "    dy5 = celoss.backward()\n",
    "    dy4 = line2.backward(dy5)\n",
    "    dy4 = relu2.backward(dy4)\n",
    "    dy3 = line1.backward(dy4)\n",
    "    dy2 = dy3.reshape(-1, 8, 4, 4)\n",
    "    dy1 = pool.backward(dy2)\n",
    "    dy1 = relu1.backward(dy1)\n",
    "    dx = conv.backward(dy1)\n",
    "def optimizer(lr):\n",
    "    conv.step(lr)\n",
    "    line1.step(lr)\n",
    "    line2.step(lr)"
   ]
  },
  {
   "cell_type": "markdown",
   "metadata": {},
   "source": [
    "# 4 モデルの学習"
   ]
  },
  {
   "cell_type": "code",
   "execution_count": 13,
   "metadata": {},
   "outputs": [
    {
     "name": "stdout",
     "output_type": "stream",
     "text": [
      "Epoch 10, loss_train 0.2572, loss_test 0.2794\n",
      "Epoch 20, loss_train 0.1918, loss_test 0.1994\n",
      "Epoch 30, loss_train 0.0601, loss_test 0.1353\n",
      "Epoch 40, loss_train 0.0293, loss_test 0.1017\n",
      "Epoch 50, loss_train 0.0223, loss_test 0.0976\n",
      "Epoch 60, loss_train 0.0125, loss_test 0.0800\n",
      "Epoch 70, loss_train 0.0088, loss_test 0.0811\n",
      "Epoch 80, loss_train 0.0068, loss_test 0.0765\n",
      "Epoch 90, loss_train 0.0054, loss_test 0.0743\n",
      "Epoch 100, loss_train 0.0046, loss_test 0.0748\n"
     ]
    }
   ],
   "source": [
    "batch_size = 100\n",
    "batch_n = len(x_train) // batch_size\n",
    "batch_index = np.arange(len(x_train))\n",
    "\n",
    "loss_train_all = []\n",
    "loss_test_all = []\n",
    "\n",
    "for epoch in range(1,100+1):\n",
    "    np.random.shuffle(batch_index)\n",
    "    for n in range(batch_n):\n",
    "        mb_index = batch_index[n*batch_size:(n+1)*batch_size]\n",
    "        y = model(x_train[mb_index].reshape(batch_size, 1, 8, 8))\n",
    "        L = loss(y,t_train[mb_index])\n",
    "        backward()\n",
    "        optimizer(1e-3)\n",
    "        \n",
    "    y_train = model(x_train.reshape(-1, 1, 8, 8))\n",
    "    loss_train = loss(y_train ,t_train)\n",
    "    y_test = model(x_test.reshape(-1, 1, 8, 8))\n",
    "    loss_test = loss(y_test ,t_test)\n",
    "    \n",
    "    loss_train_all.append(loss_train)\n",
    "    loss_test_all.append(loss_test)\n",
    "\n",
    "    if epoch % 10 == 0:\n",
    "        print(f\"Epoch {epoch}, loss_train {loss_train:.4f}, loss_test {loss_test:.4f}\")"
   ]
  },
  {
   "cell_type": "markdown",
   "metadata": {},
   "source": [
    "# 5 モデルの評価"
   ]
  },
  {
   "cell_type": "code",
   "execution_count": 14,
   "metadata": {},
   "outputs": [
    {
     "data": {
      "text/plain": [
       "<matplotlib.legend.Legend at 0x7fe708e746d0>"
      ]
     },
     "execution_count": 14,
     "metadata": {},
     "output_type": "execute_result"
    },
    {
     "data": {
      "image/png": "[encoded data removed]",
      "text/plain": [
       "<Figure size 432x288 with 1 Axes>"
      ]
     },
     "metadata": {
      "needs_background": "light"
     },
     "output_type": "display_data"
    }
   ],
   "source": [
    "plt.plot(range(1,len(loss_train_all)+1), loss_train_all, label=\"train\")\n",
    "plt.plot(range(1,len(loss_test_all)+1), loss_test_all, label=\"test\")\n",
    "plt.legend()"
   ]
  },
  {
   "cell_type": "code",
   "execution_count": 15,
   "metadata": {},
   "outputs": [],
   "source": [
    "def accuracy(x,t):\n",
    "    acc = sum(model(x.reshape(len(x),1,8,8)).argmax(axis=1) == t.argmax(axis=1))/len(t)\n",
    "    return acc"
   ]
  },
  {
   "cell_type": "code",
   "execution_count": 16,
   "metadata": {},
   "outputs": [
    {
     "name": "stdout",
     "output_type": "stream",
     "text": [
      "1.0 0.9711111111111111\n"
     ]
    }
   ],
   "source": [
    "print(accuracy(x_train,t_train), accuracy(x_test,t_test))"
   ]
  }
 ],
 "metadata": {
  "kernelspec": {
   "display_name": "Python 3",
   "language": "python",
   "name": "python3"
  },
  "language_info": {
   "codemirror_mode": {
    "name": "ipython",
    "version": 3
   },
   "file_extension": ".py",
   "mimetype": "text/x-python",
   "name": "python",
   "nbconvert_exporter": "python",
   "pygments_lexer": "ipython3",
   "version": "3.8.5"
  }
 },
 "nbformat": 4,
 "nbformat_minor": 4
}
